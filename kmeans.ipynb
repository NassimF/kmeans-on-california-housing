{
  "nbformat": 4,
  "nbformat_minor": 0,
  "metadata": {
    "colab": {
      "name": "kmeans.ipynb",
      "provenance": [],
      "collapsed_sections": []
    },
    "kernelspec": {
      "name": "python3",
      "display_name": "Python 3"
    },
    "language_info": {
      "name": "python"
    }
  },
  "cells": [
    {
      "cell_type": "code",
      "metadata": {
        "id": "WZOmrkqp-t4V"
      },
      "source": [
        "import numpy as np\n",
        "from numpy.linalg import norm\n",
        "\n",
        "\n",
        "class Kmeans:\n",
        " \n",
        "\n",
        "    def __init__(self, n_clusters, max_iter=100):  #delete random state\n",
        "        self.n_clusters = n_clusters\n",
        "        self.max_iter = max_iter\n",
        "  \n",
        "\n",
        "    def initialize_centroids(self, X):\n",
        "      \n",
        "      random_index = np.random.permutation(X.shape[0]) # shuffle the row indices\n",
        "      centroids = X[random_index[:self.n_clusters]] # select n of the randomized indices and select the data point related to them\n",
        "      return centroids\n",
        "\n",
        "\n",
        "    def compute_distance(self, X, centroids):\n",
        "        distance = np.zeros((X.shape[0], self.n_clusters))  # for example 500*5\n",
        "        for k in range(self.n_clusters): # k is the centroid, 2-norm on row\n",
        "            row_norm = norm(X - centroids[k, :], axis=1) # distance of each datapoint from each centroid, row norm is a vector\n",
        "            distance[:, k] = np.square(row_norm) # column k is the square norm , assign distance of all datapoints from centroid k, \n",
        "        return distance  #result is 500*5\n",
        "\n",
        "\n",
        "    def assign_closest_cluster(self, distance):\n",
        "        return np.argmin(distance, axis=1) # argmin returns the indices of the min values in the rows, this index indicates the closest centroind, result is a vector of 500 elements\n",
        "\n",
        "\n",
        "\n",
        "    def compute_centroids(self, X, labels): #label is the closest centroid assigned to each data point\n",
        "        centroids = np.empty((self.n_clusters, X.shape[1])) # empty matrix , the columns are the same as the number of data columns\n",
        "        for k in range(self.n_clusters):# k indicates which cluster\n",
        "            centroids[k, :] = np.mean(X[labels == k, :], axis=0)# the new centroid is the average of all datapoints in a certain cluster(labels ==k)\n",
        "        return centroids\n",
        "\n",
        "\n",
        "    def compute_sse(self, X, labels, centroids): # compute sum of squared errors\n",
        "        distance = np.zeros(X.shape[0])\n",
        "        for k in range(self.n_clusters):\n",
        "            distance[labels == k] = norm(X[labels == k] - centroids[k], axis=1) # labels == k means where the cluster is cluster k\n",
        "        return np.sum(np.square(distance))\n",
        "    \n",
        "\n",
        "    def fit(self, X):\n",
        "        self.centroids = self.initialize_centroids(X)\n",
        "        for i in range(self.max_iter):\n",
        "            old_centroids = self.centroids\n",
        "            distance = self.compute_distance(X, old_centroids)\n",
        "            self.labels = self.assign_closest_cluster(distance)# Assignment of datapoints to clusters, label is the closest cluster centroid\n",
        "            self.centroids = self.compute_centroids(X, self.labels) # compute new centroids according to old ones(labels)\n",
        "            if np.all(old_centroids == self.centroids): # if the new centroids haven't changed from the old ones then  stop\n",
        "                break\n",
        "        self.error = self.compute_sse(X, self.labels, self.centroids) #sum of squared errors, error of model\n",
        "    \n",
        "\n",
        "    def predict(self, X): # assign a new data matrix to some  clusters\n",
        "        distance = self.compute_distance(X, self.centroids) # compute distance from the last centroids, self.centroid?\n",
        "        return self.assign_closest_cluster(distance)"
      ],
      "execution_count": null,
      "outputs": []
    },
    {
      "cell_type": "code",
      "metadata": {
        "id": "K5NqtD2ClHcW",
        "colab": {
          "base_uri": "https://localhost:8080/"
        },
        "outputId": "37784a42-6a76-4adb-d981-30a9db7ec692"
      },
      "source": [
        "import pandas as pd\n",
        "import numpy as np\n",
        "from sklearn.preprocessing import StandardScaler, Normalizer\n",
        "\n",
        "\"\"\" Mean must be 0 and variance 1\"\"\"\n",
        "\n",
        "df_train = pd.read_csv('/content/sample_data/california_housing_train.csv')\n",
        "df_new={}\n",
        "df_new = df_train[['longitude','latitude']]\n",
        "X_train = np.array(df_new)\n",
        "print(X_train.shape)\n",
        "scaler = StandardScaler()\n",
        "X_train = scaler.fit_transform(X_train)\n",
        "\n",
        "\n",
        "df_test=pd.read_csv('/content/sample_data/california_housing_test.csv')\n",
        "df_new_test={}\n",
        "df_new_test = df_test[['longitude','latitude']]\n",
        "X_test = np.array(df_new_test)\n",
        "X_test = scaler.transform(X_test)\n",
        "\n",
        "\n",
        "\n"
      ],
      "execution_count": null,
      "outputs": [
        {
          "output_type": "stream",
          "name": "stdout",
          "text": [
            "(17000, 2)\n"
          ]
        }
      ]
    },
    {
      "cell_type": "code",
      "metadata": {
        "colab": {
          "base_uri": "https://localhost:8080/"
        },
        "id": "tc9t7kNak05W",
        "outputId": "3f6d3749-f837-48c5-b40b-eb8b40422362"
      },
      "source": [
        "\n",
        "Kmeans_model = Kmeans(n_clusters = 5)\n",
        "Kmeans_model.fit(X_train)\n",
        "results = Kmeans_model.predict(X_test)\n",
        "print('results = ', results)\n",
        "print('results shape = ', results.shape)\n"
      ],
      "execution_count": null,
      "outputs": [
        {
          "output_type": "stream",
          "name": "stdout",
          "text": [
            "results =  [1 4 4 ... 0 2 0]\n",
            "results shape =  (3000,)\n"
          ]
        }
      ]
    }
  ]
}